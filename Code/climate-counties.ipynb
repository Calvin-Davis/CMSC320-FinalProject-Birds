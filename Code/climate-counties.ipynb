{
 "cells": [
  {
   "cell_type": "code",
   "execution_count": 19,
   "metadata": {},
   "outputs": [],
   "source": [
    "import pandas as pd\n",
    "import numpy as np\n",
    "import requests"
   ]
  },
  {
   "cell_type": "code",
   "execution_count": 20,
   "metadata": {},
   "outputs": [],
   "source": [
    "urls = {\n",
    "    'avg_temp': \"https://www.ncei.noaa.gov/pub/data/cirs/climdiv/climdiv-tmpccy-v1.0.0-20240506\",\n",
    "    'max_temp': \"https://www.ncei.noaa.gov/pub/data/cirs/climdiv/climdiv-tmaxcy-v1.0.0-20240506\",\n",
    "    'min_temp': \"https://www.ncei.noaa.gov/pub/data/cirs/climdiv/climdiv-tmincy-v1.0.0-20240506\",\n",
    "    'precipitation': \"https://www.ncei.noaa.gov/pub/data/cirs/climdiv/climdiv-pcpncy-v1.0.0-20240506\",\n",
    "    'pdsi': \"https://www.ncei.noaa.gov/pub/data/cirs/climdiv/climdiv-pdsicy-v1.0.0-20240506\"\n",
    "}"
   ]
  },
  {
   "cell_type": "code",
   "execution_count": 21,
   "metadata": {},
   "outputs": [],
   "source": [
    "dfs = []\n",
    "\n",
    "for var, url in urls.items():\n",
    "    response = requests.get(url)\n",
    "    data = response.text\n",
    "    \n",
    "    lines = data.strip().split('\\n')\n",
    "    \n",
    "    parsed_data = []\n",
    "    \n",
    "    for line in lines:\n",
    "        identification_number = line[:11]\n",
    "        \n",
    "        state_fips = identification_number[:2]\n",
    "        county_fips = identification_number[2:5]\n",
    "        year = int(identification_number[7:11])\n",
    "        \n",
    "        monthly_data = line[11:].split()\n",
    "        \n",
    "        row = {'state_fips': state_fips, 'county_fips': county_fips, 'year': year, **{f'month_{i}': float(val) for i, val in enumerate(monthly_data, start=1)}}\n",
    "        \n",
    "        if year >= 1970:\n",
    "            parsed_data.append(row)\n",
    "    \n",
    "    df = pd.DataFrame(parsed_data)\n",
    "    \n",
    "    # Consolidate data from monthly to yearly\n",
    "    if var == 'avg_temp':\n",
    "        df['avg_temp'] = df[[f'month_{i}' for i in range(1, 13)]].mean(axis=1)\n",
    "        df = df[['state_fips', 'county_fips', 'year', 'avg_temp']]\n",
    "    elif var == 'max_temp':\n",
    "        df['max_temp'] = df[[f'month_{i}' for i in range(1, 13)]].max(axis=1)\n",
    "        df = df[['state_fips', 'county_fips', 'year', 'max_temp']]\n",
    "    elif var == 'min_temp':\n",
    "        df['min_temp'] = df[[f'month_{i}' for i in range(1, 13)]].min(axis=1)\n",
    "        df = df[['state_fips', 'county_fips', 'year', 'min_temp']]\n",
    "    elif var == 'precipitation':\n",
    "        df['total_precip'] = df[[f'month_{i}' for i in range(1, 13)]].sum(axis=1)\n",
    "        df = df[['state_fips', 'county_fips', 'year', 'total_precip']]\n",
    "    elif var == 'pdsi':\n",
    "        df['avg_pdsi'] = df[[f'month_{i}' for i in range(1, 13)]].mean(axis=1)\n",
    "        df = df[['state_fips', 'county_fips', 'year', 'avg_pdsi']]\n",
    "    \n",
    "    dfs.append(df)"
   ]
  },
  {
   "cell_type": "code",
   "execution_count": 22,
   "metadata": {},
   "outputs": [
    {
     "data": {
      "text/html": [
       "<div>\n",
       "<style scoped>\n",
       "    .dataframe tbody tr th:only-of-type {\n",
       "        vertical-align: middle;\n",
       "    }\n",
       "\n",
       "    .dataframe tbody tr th {\n",
       "        vertical-align: top;\n",
       "    }\n",
       "\n",
       "    .dataframe thead th {\n",
       "        text-align: right;\n",
       "    }\n",
       "</style>\n",
       "<table border=\"1\" class=\"dataframe\">\n",
       "  <thead>\n",
       "    <tr style=\"text-align: right;\">\n",
       "      <th></th>\n",
       "      <th>state_fips</th>\n",
       "      <th>county_fips</th>\n",
       "      <th>year</th>\n",
       "      <th>avg_temp</th>\n",
       "      <th>max_temp</th>\n",
       "      <th>min_temp</th>\n",
       "      <th>total_precip</th>\n",
       "      <th>avg_pdsi</th>\n",
       "    </tr>\n",
       "  </thead>\n",
       "  <tbody>\n",
       "    <tr>\n",
       "      <th>0</th>\n",
       "      <td>01</td>\n",
       "      <td>001</td>\n",
       "      <td>1970</td>\n",
       "      <td>62.666667</td>\n",
       "      <td>92.1</td>\n",
       "      <td>28.1</td>\n",
       "      <td>50.06</td>\n",
       "      <td>-0.253333</td>\n",
       "    </tr>\n",
       "    <tr>\n",
       "      <th>1</th>\n",
       "      <td>01</td>\n",
       "      <td>001</td>\n",
       "      <td>1971</td>\n",
       "      <td>63.241667</td>\n",
       "      <td>90.1</td>\n",
       "      <td>33.8</td>\n",
       "      <td>64.32</td>\n",
       "      <td>1.790833</td>\n",
       "    </tr>\n",
       "    <tr>\n",
       "      <th>2</th>\n",
       "      <td>01</td>\n",
       "      <td>001</td>\n",
       "      <td>1972</td>\n",
       "      <td>63.708333</td>\n",
       "      <td>91.0</td>\n",
       "      <td>37.6</td>\n",
       "      <td>57.44</td>\n",
       "      <td>1.745833</td>\n",
       "    </tr>\n",
       "    <tr>\n",
       "      <th>3</th>\n",
       "      <td>01</td>\n",
       "      <td>001</td>\n",
       "      <td>1973</td>\n",
       "      <td>63.583333</td>\n",
       "      <td>90.7</td>\n",
       "      <td>32.8</td>\n",
       "      <td>60.80</td>\n",
       "      <td>0.802500</td>\n",
       "    </tr>\n",
       "    <tr>\n",
       "      <th>4</th>\n",
       "      <td>01</td>\n",
       "      <td>001</td>\n",
       "      <td>1974</td>\n",
       "      <td>63.808333</td>\n",
       "      <td>90.3</td>\n",
       "      <td>35.4</td>\n",
       "      <td>59.63</td>\n",
       "      <td>0.894167</td>\n",
       "    </tr>\n",
       "  </tbody>\n",
       "</table>\n",
       "</div>"
      ],
      "text/plain": [
       "  state_fips county_fips  year   avg_temp  max_temp  min_temp  total_precip  \\\n",
       "0         01         001  1970  62.666667      92.1      28.1         50.06   \n",
       "1         01         001  1971  63.241667      90.1      33.8         64.32   \n",
       "2         01         001  1972  63.708333      91.0      37.6         57.44   \n",
       "3         01         001  1973  63.583333      90.7      32.8         60.80   \n",
       "4         01         001  1974  63.808333      90.3      35.4         59.63   \n",
       "\n",
       "   avg_pdsi  \n",
       "0 -0.253333  \n",
       "1  1.790833  \n",
       "2  1.745833  \n",
       "3  0.802500  \n",
       "4  0.894167  "
      ]
     },
     "execution_count": 22,
     "metadata": {},
     "output_type": "execute_result"
    }
   ],
   "source": [
    "merged_df = dfs[0]\n",
    "for df in dfs[1:]:\n",
    "    merged_df = pd.merge(merged_df, df, on=['state_fips', 'county_fips', 'year'], how='outer')\n",
    "\n",
    "merged_df.head()"
   ]
  },
  {
   "cell_type": "code",
   "execution_count": 23,
   "metadata": {},
   "outputs": [
    {
     "data": {
      "text/plain": [
       "172535"
      ]
     },
     "execution_count": 23,
     "metadata": {},
     "output_type": "execute_result"
    }
   ],
   "source": [
    "# Lovely!\n",
    "len(merged_df.index)"
   ]
  },
  {
   "cell_type": "code",
   "execution_count": null,
   "metadata": {},
   "outputs": [],
   "source": []
  }
 ],
 "metadata": {
  "kernelspec": {
   "display_name": "Python 3",
   "language": "python",
   "name": "python3"
  },
  "language_info": {
   "codemirror_mode": {
    "name": "ipython",
    "version": 3
   },
   "file_extension": ".py",
   "mimetype": "text/x-python",
   "name": "python",
   "nbconvert_exporter": "python",
   "pygments_lexer": "ipython3",
   "version": "3.11.5"
  }
 },
 "nbformat": 4,
 "nbformat_minor": 2
}
