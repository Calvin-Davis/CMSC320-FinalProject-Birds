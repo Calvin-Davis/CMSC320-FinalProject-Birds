{
 "cells": [
  {
   "cell_type": "markdown",
   "metadata": {},
   "source": [
    "# Calvin's Changes to eventually add to compiled_submission\n",
    "Putting them here to avoid merge conflicts and stuff from editing the same file"
   ]
  },
  {
   "cell_type": "markdown",
   "metadata": {},
   "source": [
    "## \\#\\# INSERT IN DATA COLLECTION SECTION \\#\\#"
   ]
  },
  {
   "cell_type": "markdown",
   "metadata": {},
   "source": [
    "### ESRI US Counties Geospatial Dataset\n",
    "Since large amounts of our environmental data are aggregated by county, as well as county serving as a division that is neither too narrow or too wide for analysis, we'd like to be able to merge these datasets, aggregating by county. The issue that arises is that even though most environmental datasets are already sorted by county, the information they use to identify the counties are not consistent. There are a wide variety of ways to identify the county location of a particular entry: For US states, this could be the state's full name, two-letter postal abbreviation, or FIPS code. For US counties, this could be the county's full name or FIPS code, both of which also depend on the state (for example, many states have a \"Washington County\", and each county's FIPS code is particular to the state it lies in). As such, there are a lot of different combinations of these representations that can occur in these datasets, and sometimes these may not overlap enough to create a meaningful merge. This is where a common county information dataset comes into play. This information comes from the Environmental Systems Research Institute, and contains most of the different representations (State FIPS, County FIPS, State Name, County Name), and can serve as a common ground for merging datasets. \n",
    "\n",
    "The other benefit of this is that it includes *shapefile* data, which creates a geospatial representation of the counties. This representation allows for identifying counties that particular longitude and latitude coordinates lie within, which serves as a useful tool for translating the BBS birding routes, which are specified by longitude and latitude, to counties, to be able to match environmental data to bird data.\n",
    "\n",
    "Download this dataset which is highlighted at the following link: [ESRI County Shapefile Forum](https://community.esri.com/t5/arcgis-enterprise-portal-questions/where-can-i-find-a-shapefile-with-all-us-counties/td-p/307592#:~:text=Hi%20Robert%2C,UScounties.zip), provided by an anonymous user in response to another user searching for such a dataset, having retrieved it from ESRI.\n",
    "\n",
    "### MetricT: Tennessee Politics Geospatial Dataset\n",
    "The other thing that we'd like to be able to do is create geographical maps of county-aggregated data that present meaningful visualizations of the data, coloring each county by some metric to show patterns and distributions. While the ESRI counties dataset contains geospatial shapefile data, it maintains the true geographic positions and scales of the country, including Alaska and Hawaii. While this is useful for pinpointing longitude and latitude and other processing applications, it creates issues for visualization. In their actual locations, Alaska appears disproportionately large due to its vast size and the distortion effects of map projection, while Hawaii appears small and distant. This configuration results in a map where the contiguous United States is reduced in size and shifted, creating an unbalanced visual with excessive empty space where Canada and the Pacific Ocean are typically located. Such a map can be difficult to interpret and aesthetically unappealing. This dataset, created by a GitHub user named MetricT, includes county shapefiles that reposition and rescale Alaska and Hawaii to be conveniently visible below the map of the contiguous United States. This adjustment is a common practice in many published maps to improve visual clarity and coherence. Therefore, the adjusted dataset is designed for visualizations that focus on county-level data, ensuring a more cohesive and accessible representation of all U.S. counties. However, it is important to note that for applications requiring precise geographic data, such as the mapping of routes using specific latitude and longitude coordinates, the ESRI counties dataset should be used to ensure accuracy in spatial relationships and geographic positioning.\n",
    "\n",
    "Download this dataset (us_county.tar.xz) from this GitHub repository at this link: [TN_Politics GitHub](https://github.com/MetricT/TN_Politics/blob/master/shapefiles/us_county.tar.xz)."
   ]
  },
  {
   "cell_type": "code",
   "execution_count": null,
   "metadata": {},
   "outputs": [],
   "source": []
  }
 ],
 "metadata": {
  "kernelspec": {
   "display_name": "base",
   "language": "python",
   "name": "python3"
  },
  "language_info": {
   "name": "python",
   "version": "3.11.5"
  }
 },
 "nbformat": 4,
 "nbformat_minor": 2
}
