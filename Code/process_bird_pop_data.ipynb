{
 "cells": [
  {
   "cell_type": "markdown",
   "metadata": {},
   "source": [
    "The primary data set we will be working with is the [North American Breeding Bird Survey Dataset](https://www.sciencebase.gov/catalog/item/52b1dfa8e4b0d9b325230cd9). This is a cohesive, well-maintained, and annually-updated dataset containing bird count data across North America. The data is organized by state and, within each state, by route. Routes are designated paths/locations where skilled avian identifiers (birders) use their ears and eyes to count all birds in the area (by species). This dataset is widely used by environmental and federal agencies to track the population health of over 700 species of bird.\n",
    "\n",
    "We will be using this dataset to measure bird population data and, in particular, population decline over the years 1966-2022 (included in the 2023 data release). Eventually, we will bring in other environmental datasets to get an idea for what factors lead to bird population decline. For now, however, let's start visualizing our data."
   ]
  },
  {
   "cell_type": "code",
   "execution_count": null,
   "metadata": {},
   "outputs": [],
   "source": [
    "import pandas as pd\n",
    "import os\n",
    "import datetime\n",
    "import matplotlib.pyplot as plt\n",
    "from sklearn.linear_model import LinearRegression\n",
    "import numpy as np"
   ]
  },
  {
   "cell_type": "code",
   "execution_count": null,
   "metadata": {},
   "outputs": [],
   "source": [
    "current_dir = os.getcwd()\n",
    "csv_file = os.path.join(current_dir, '..', 'Data', 'routes.csv')\n",
    "df = pd.read_csv(csv_file, encoding='latin-1')"
   ]
  }
 ],
 "metadata": {
  "kernelspec": {
   "display_name": "base",
   "language": "python",
   "name": "python3"
  },
  "language_info": {
   "name": "python",
   "version": "3.11.5"
  }
 },
 "nbformat": 4,
 "nbformat_minor": 2
}
